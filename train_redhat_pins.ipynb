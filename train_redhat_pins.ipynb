{
  "cells": [
    {
      "cell_type": "markdown",
      "metadata": {
        "id": "EstSCQo1ejN-"
      },
      "source": [
        "Download training data"
      ]
    },
    {
      "cell_type": "code",
      "execution_count": null,
      "metadata": {
        "colab": {
          "base_uri": "https://localhost:8080/"
        },
        "id": "617K6KKsemsU",
        "outputId": "0f53422c-e936-4021-cea6-abd0d31b0373"
      },
      "outputs": [],
      "source": [
        "!git clone https://github.com/kwkoo/redhat-pins-ai-demo.git"
      ]
    },
    {
      "cell_type": "markdown",
      "metadata": {
        "id": "ZS6A1EttfokE"
      },
      "source": [
        "Import Dependencies"
      ]
    },
    {
      "cell_type": "code",
      "execution_count": null,
      "metadata": {
        "colab": {
          "base_uri": "https://localhost:8080/"
        },
        "id": "LbN4zKtofsJa",
        "outputId": "e7abe68b-b110-4176-bc55-321411d54063"
      },
      "outputs": [],
      "source": [
        "!pip install ultralytics"
      ]
    },
    {
      "cell_type": "markdown",
      "metadata": {
        "id": "vyOq19dBhbvY"
      },
      "source": [
        "Switch into dataset directory"
      ]
    },
    {
      "cell_type": "code",
      "execution_count": null,
      "metadata": {
        "colab": {
          "base_uri": "https://localhost:8080/"
        },
        "id": "3BW3F6rzhgdH",
        "outputId": "12d9c25a-4c34-4fac-a888-5f429f399bae"
      },
      "outputs": [],
      "source": [
        "%cd redhat-pins-ai-demo/"
      ]
    },
    {
      "cell_type": "markdown",
      "metadata": {
        "id": "EYDw6c1dr0ZS"
      },
      "source": [
        "Fix paths in data.yaml"
      ]
    },
    {
      "cell_type": "code",
      "execution_count": 4,
      "metadata": {
        "id": "X2tuzn-Bpmfg"
      },
      "outputs": [],
      "source": [
        "!sed -i \"s|\\\\./|$(pwd)/datasets/|g\" datasets/data.yaml"
      ]
    },
    {
      "cell_type": "markdown",
      "metadata": {
        "id": "YmYSGFO2fXiO"
      },
      "source": [
        "Load Pre-trained model"
      ]
    },
    {
      "cell_type": "code",
      "execution_count": null,
      "metadata": {
        "colab": {
          "base_uri": "https://localhost:8080/"
        },
        "id": "Ktbv_5BUfddI",
        "outputId": "d2a25b6a-c004-4bc5-c92b-ccd9006fcf30"
      },
      "outputs": [],
      "source": [
        "from ultralytics import YOLO\n",
        "\n",
        "model = YOLO('yolov8s.pt')"
      ]
    },
    {
      "cell_type": "markdown",
      "metadata": {
        "id": "a-ML2hbMgOsU"
      },
      "source": [
        "Train the model on the dataset"
      ]
    },
    {
      "cell_type": "code",
      "execution_count": null,
      "metadata": {
        "colab": {
          "base_uri": "https://localhost:8080/"
        },
        "id": "mhh0ZSk4gRsI",
        "outputId": "9110ade1-6b02-4702-fdc8-aaa70c01ea60"
      },
      "outputs": [],
      "source": [
        "results = model.train(data='./datasets/data.yaml', epochs=10, imgsz=1280, batch=5)"
      ]
    }
  ],
  "metadata": {
    "accelerator": "GPU",
    "colab": {
      "gpuType": "T4",
      "provenance": []
    },
    "kernelspec": {
      "display_name": "Python 3",
      "name": "python3"
    },
    "language_info": {
      "name": "python"
    }
  },
  "nbformat": 4,
  "nbformat_minor": 0
}
