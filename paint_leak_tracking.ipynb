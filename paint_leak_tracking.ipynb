{
 "cells": [
  {
   "cell_type": "code",
   "execution_count": null,
   "id": "5a81422d-cde9-415d-a344-7ab1e6d93316",
   "metadata": {},
   "outputs": [],
   "source": [
    "!pip3 install lapx"
   ]
  },
  {
   "cell_type": "code",
   "execution_count": null,
   "id": "25109f65-784d-4a47-9af7-5cf714017d3a",
   "metadata": {},
   "outputs": [],
   "source": [
    "import cv2\n",
    "from ultralytics import YOLO\n",
    "from matplotlib import pyplot as plt"
   ]
  },
  {
   "cell_type": "code",
   "execution_count": null,
   "id": "875e054d-17ab-45f3-aaa4-7d30de2e8516",
   "metadata": {},
   "outputs": [],
   "source": [
    "model = YOLO('best.pt')"
   ]
  },
  {
   "cell_type": "code",
   "execution_count": null,
   "id": "43248747-5d37-4cb0-8459-520bc13732f8",
   "metadata": {},
   "outputs": [],
   "source": [
    "cam = cv2.VideoCapture('video.mp4')"
   ]
  },
  {
   "cell_type": "code",
   "execution_count": null,
   "id": "ca2c56f3-95e1-4bbf-a77e-0a4b7287fd1e",
   "metadata": {},
   "outputs": [],
   "source": [
    "for _ in range(50):\n",
    "    result, frame = cam.read()\n",
    "    if not result:\n",
    "        cam.open('video.mp4')\n",
    "        continue\n",
    "    #rgb_frame = cv2.cvtColor(frame, cv2.COLOR_BGR2RGB)\n",
    "    #plt.imshow(rgb_frame)\n",
    "    result = model.track(frame, persist=True)[0]\n",
    "    #result.show()\n",
    "    #print(f\"cls = {result.boxes.cls}\")\n",
    "    #print(f\"id = {result.boxes.id}\")\n",
    "    if result.boxes.id is None:\n",
    "        continue\n",
    "    cls = result.boxes.cls.numpy().astype(int)\n",
    "    ids = result.boxes.id.numpy().astype(int)\n",
    "    for idx, cl in enumerate(cls):\n",
    "        if cl == 1:\n",
    "            print(f\"paint leak id = {ids[idx]}\")"
   ]
  },
  {
   "cell_type": "code",
   "execution_count": null,
   "id": "7d8ab7e6-7536-4544-ac68-45c1563e52e5",
   "metadata": {},
   "outputs": [],
   "source": []
  }
 ],
 "metadata": {
  "kernelspec": {
   "display_name": "Python 3 (ipykernel)",
   "language": "python",
   "name": "python3"
  },
  "language_info": {
   "codemirror_mode": {
    "name": "ipython",
    "version": 3
   },
   "file_extension": ".py",
   "mimetype": "text/x-python",
   "name": "python",
   "nbconvert_exporter": "python",
   "pygments_lexer": "ipython3",
   "version": "3.9.18"
  }
 },
 "nbformat": 4,
 "nbformat_minor": 5
}
